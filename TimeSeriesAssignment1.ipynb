{
 "cells": [
  {
   "cell_type": "raw",
   "id": "8ca71a02-fd9b-4656-8d17-7c7a72184f0f",
   "metadata": {},
   "source": [
    "1.Time series definition and common applications:\n",
    "A time series is a sequence of data points collected or recorded at successive, equally spaced time intervals. Common applications of time series analysis include:\n",
    "\n",
    "Financial forecasting\n",
    "Stock market analysis\n",
    "Demand forecasting\n",
    "Weather forecasting\n",
    "Economic trend analysis\n",
    "Health monitoring\n",
    "Network traffic analysis\n"
   ]
  },
  {
   "cell_type": "raw",
   "id": "88d852eb-a579-4b6a-8c84-ef16551fe4a6",
   "metadata": {},
   "source": [
    "2.Common time series patterns and identification:\n",
    "Common time series patterns include trend, seasonality, cyclicality, and irregularity. These patterns can be identified through visual inspection of plots, such as time series plots, decomposition plots, and autocorrelation plots."
   ]
  },
  {
   "cell_type": "raw",
   "id": "172afc2b-7527-4ca3-9044-78498baaa439",
   "metadata": {},
   "source": [
    "3.Preprocessing of time series data:\n",
    "Time series data can be preprocessed by handling missing values, removing outliers, detrending, deseasonalizing, and normalizing the data to make it suitable for analysis techniques like forecasting or modeling."
   ]
  },
  {
   "cell_type": "raw",
   "id": "ede7e43c-dd95-4c64-a51d-5cb7dcf53592",
   "metadata": {},
   "source": [
    "4.Time series forecasting in business decision-making:\n",
    "Time series forecasting helps businesses anticipate future trends and make informed decisions about resource allocation, inventory management, production planning, and budgeting. Common challenges include handling noisy data, incorporating external factors, and dealing with unexpected events."
   ]
  },
  {
   "cell_type": "raw",
   "id": "7f8951b5-874d-4890-b96f-c3bd985c9d4c",
   "metadata": {},
   "source": [
    "5.ARIMA modeling for time series forecasting:\n",
    "ARIMA (AutoRegressive Integrated Moving Average) is a popular method for time series forecasting. It models the relationship between a variable and its past values, differences, and lagged forecast errors. ARIMA models can capture both trend and seasonality in data."
   ]
  },
  {
   "cell_type": "raw",
   "id": "f18f30cf-1d9e-4102-aa8a-a03be92593ad",
   "metadata": {},
   "source": [
    "6.ACF and PACF plots in identifying ARIMA model orders:\n",
    "ACF and PACF plots help identify the orders of the autoregressive (AR) and moving average (MA) components in ARIMA models. The ACF plot shows the autocorrelation at different lags, while the PACF plot shows the partial autocorrelation after removing the effects of shorter lags."
   ]
  },
  {
   "cell_type": "code",
   "execution_count": null,
   "id": "2310a19f-fc79-4b27-95df-2cd6809db3a1",
   "metadata": {},
   "outputs": [],
   "source": [
    "7."
   ]
  }
 ],
 "metadata": {
  "kernelspec": {
   "display_name": "Python 3 (ipykernel)",
   "language": "python",
   "name": "python3"
  },
  "language_info": {
   "codemirror_mode": {
    "name": "ipython",
    "version": 3
   },
   "file_extension": ".py",
   "mimetype": "text/x-python",
   "name": "python",
   "nbconvert_exporter": "python",
   "pygments_lexer": "ipython3",
   "version": "3.10.8"
  }
 },
 "nbformat": 4,
 "nbformat_minor": 5
}
